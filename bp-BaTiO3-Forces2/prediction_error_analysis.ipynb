{
 "cells": [
  {
   "cell_type": "code",
   "execution_count": 15,
   "metadata": {},
   "outputs": [],
   "source": [
    "import re\n",
    "import glob \n",
    "\n",
    "import numpy as np\n",
    "import pandas as pd\n",
    "import tensorflow as tf\n",
    "from sklearn.preprocessing import MinMaxScaler\n",
    "\n",
    "import matplotlib.pyplot as plt\n",
    "import seaborn as sns\n",
    "import plotly.express as px\n",
    "import plotly.graph_objects as go\n",
    "from plotly.subplots import make_subplots\n",
    "from mpl_toolkits.axes_grid1.inset_locator import inset_axes"
   ]
  },
  {
   "cell_type": "code",
   "execution_count": 16,
   "metadata": {},
   "outputs": [],
   "source": [
    "num_hidden_nodes = [16, 32]\n",
    "activations = 2*['tanh']\n",
    "num_atoms = 40"
   ]
  },
  {
   "cell_type": "code",
   "execution_count": 17,
   "metadata": {},
   "outputs": [],
   "source": [
    "def my_loss_fn(y_true, y_pred):\n",
    "    squared_difference = tf.square(y_true - y_pred)\n",
    "    return tf.reduce_mean(squared_difference, axis=0)"
   ]
  },
  {
   "cell_type": "code",
   "execution_count": 18,
   "metadata": {},
   "outputs": [],
   "source": [
    "X_train_cycles = pd.read_parquet('X_'+'cycles'+'_train.parquet')\n",
    "X_dev_cycles = pd.read_parquet('X_'+'cycles'+'_dev.parquet')\n",
    "X_test_cycles = pd.read_parquet('X_'+'cycles'+'_test.parquet')\n",
    "\n",
    "scaler = MinMaxScaler().fit(X_train_cycles)\n",
    "    \n",
    "X_train_cycles = pd.DataFrame(scaler.transform(\n",
    "    X_train_cycles), columns=X_train_cycles.columns, index=X_train_cycles.index)\n",
    "X_dev_cycles = pd.DataFrame(scaler.transform(\n",
    "    X_dev_cycles), columns=X_dev_cycles.columns, index=X_dev_cycles.index)\n",
    "X_test_cycles = pd.DataFrame(scaler.transform(\n",
    "    X_test_cycles), columns=X_test_cycles.columns, index=X_test_cycles.index)"
   ]
  },
  {
   "cell_type": "code",
   "execution_count": 19,
   "metadata": {},
   "outputs": [],
   "source": [
    "f_train = pd.read_parquet('y_train.parquet').loc[:, [\n",
    "    'fx', 'fy', 'fz']].astype('float32').values.reshape(-1, num_atoms, 3)\n",
    "    \n",
    "f_dev = pd.read_parquet('y_dev.parquet').loc[:, [\n",
    "    'fx', 'fy', 'fz']].astype('float32').values.reshape(-1, num_atoms, 3)\n",
    "    \n",
    "f_test = pd.read_parquet('y_test.parquet').loc[:, [\n",
    "    'fx', 'fy', 'fz']].astype('float32').values.reshape(-1, num_atoms, 3)"
   ]
  },
  {
   "cell_type": "code",
   "execution_count": 20,
   "metadata": {},
   "outputs": [],
   "source": [
    "def get_features(features, num_hidden_nodes, activations, num_atoms):\n",
    "\n",
    "\n",
    "    # %%\n",
    "    network = '_'.join([str(x) for x in num_hidden_nodes])\n",
    "    model_name = features+'--'+network+activations[0]\n",
    "    \n",
    "    f_type, n_hops, n_nei = model_name.split('-')[0], *re.findall('\\d+', features)\n",
    "    \n",
    "\n",
    "\n",
    "    if f_type == 'paths':\n",
    "        cols_hops = X_train_paths.columns[X_train_paths.columns.str.startswith(\n",
    "            tuple(str(x)+'_(' for x in range(int(n_hops)+1)))]\n",
    "        cols_neis = X_train_paths.columns[X_train_paths.columns.str.startswith(\n",
    "            tuple(str(x)+'_[' for x in range(int(n_nei)+1)))]\n",
    "        cols = cols_hops.to_list()+cols_neis.to_list()+['Atom']\n",
    "\n",
    "        X_train = X_train_paths.loc[:, cols]\n",
    "        X_dev = X_dev_paths.loc[:, cols]\n",
    "        X_test = X_test_paths.loc[:, cols]\n",
    "    else:\n",
    "        cols_hops = X_train_cycles.columns[X_train_cycles.columns.str.startswith(\n",
    "            tuple(str(x)+'_(' for x in range(int(n_hops)+1)))]\n",
    "        cols_neis = X_train_cycles.columns[X_train_cycles.columns.str.startswith(\n",
    "            tuple(str(x)+'_[' for x in range(int(n_nei)+1)))]\n",
    "        cols = cols_hops.to_list()+cols_neis.to_list()+['Atom']\n",
    "        X_train = X_train_cycles.loc[:, cols]\n",
    "        X_dev = X_dev_cycles.loc[:, cols]\n",
    "        X_test = X_test_cycles.loc[:, cols]        \n",
    "    \n",
    "    # %%\n",
    "\n",
    "    \n",
    "    X_train2 = X_train.to_numpy().reshape(-1, num_atoms, X_train.shape[-1])\n",
    "    X_dev2 = X_dev.to_numpy().reshape(-1, num_atoms, X_dev.shape[-1])\n",
    "    X_test2 = X_test.to_numpy().reshape(-1,  num_atoms, X_test.shape[-1])\n",
    "    \n",
    "    model = tf.keras.models.load_model('./results/'+model_name+'/checkpoints', compile = False)#, custom_objects={'loss': my_loss_fn})\n",
    "    \n",
    "    predictions = {}\n",
    "    xs2 = [X_train2, X_dev2, X_test2]\n",
    "    ys2 = [f_train, f_dev, f_test]\n",
    "    xs = [X_train, X_dev, X_test]\n",
    "    \n",
    "    return(model, xs, xs2, ys2, n_hops, n_nei)\n"
   ]
  },
  {
   "cell_type": "code",
   "execution_count": 21,
   "metadata": {},
   "outputs": [],
   "source": [
    "def predict(model, xs, xs2, ys2):\n",
    "    predictions = {}\n",
    "    for i, set in enumerate(['train', 'dev', 'test']):\n",
    "        xvals = xs2[i]  # .to_numpy().reshape(-1, num_atoms, xs[i].shape[-1])\n",
    "        y_pred2 = model.predict_on_batch(xvals)\n",
    "        y_pred = pd.DataFrame(y_pred2.reshape(-1, 3),\n",
    "                              columns=['x_hat', 'y_hat', 'z_hat'], index=xs[i].index)\n",
    "        y_real = pd.DataFrame(ys2[i].reshape(-1, 3),\n",
    "                              columns=['x', 'y', 'z'], index=xs[i].index)\n",
    "        df_pred = pd.concat([y_real, y_pred], axis=1)\n",
    "        predictions[set] = df_pred\n",
    "    df_pred = pd.concat(predictions)\n",
    "    df_pred['f'] = np.sqrt((df_pred[['x', 'y', 'z']]**2).sum(axis=1))\n",
    "    df_pred['f_hat'] = np.sqrt((df_pred[['x_hat', 'y_hat', 'z_hat']]**2).sum(axis=1))\n",
    "\n",
    "    return(df_pred)\n"
   ]
  },
  {
   "cell_type": "code",
   "execution_count": 32,
   "metadata": {},
   "outputs": [],
   "source": [
    "\n",
    "def get_vectors(features_list):\n",
    "    labels_list = []\n",
    "    preds = {}\n",
    "    preds_vector = {}\n",
    "    shapes = {}\n",
    "    for features in features_list:\n",
    "        model, xs, xs2, ys2, n_hop, n_nei = get_features(features, num_hidden_nodes, activations, num_atoms)\n",
    "        labels_list.append([n_hop, n_nei])\n",
    "        preds[features] = predict(model, xs, xs2, ys2)\n",
    "        print(features, xs[0].shape)\n",
    "        mae = ((preds[features].loc[:, ['x', 'y', 'z']]).values - (preds[features].loc[:, ['x_hat', 'y_hat', 'z_hat']]).values)**2\n",
    "        preds_vector[features] = pd.DataFrame(mae.reshape(-1))\n",
    "        new_index = []\n",
    "        for item in preds[features].index.to_list():\n",
    "            item = list(item)\n",
    "            a, b = item[1].split('--')\n",
    "            c, e = a.split('_')\n",
    "            item.extend([c, e, a, b])\n",
    "            for d in ['x', 'y', 'z']:\n",
    "                new_index.append(item + [d])\n",
    "        preds_vector[features][['set', 'index', 'atom', 'atom_number', 'atom+number','structure', 'direction']] = new_index\n",
    "        df = pd.concat(preds_vector).reset_index()\n",
    "        df.columns = ['Features', 'level_1','MAE Forces', 'set', 'old_index', 'Atom', 'atom_number', 'atom+number', 'structure', 'Direction']\n",
    "        df = df.drop('level_1', axis = 1)\n",
    "        shapes[features] = xs[0].shape\n",
    "    return(df, labels_list, preds_vector, preds, shapes, model, xs, xs2, ys2)"
   ]
  },
  {
   "cell_type": "code",
   "execution_count": 33,
   "metadata": {},
   "outputs": [
    {
     "name": "stdout",
     "output_type": "stream",
     "text": [
      "cycles-exp4-coords2 (30000, 421)\n"
     ]
    }
   ],
   "source": [
    "df, labels_list, preds_vector, preds, shapes, model, xs, xs2, ys2 = get_vectors(['cycles-exp4-coords2'])#, 'cycles-exp6-coords4'])"
   ]
  },
  {
   "cell_type": "code",
   "execution_count": 47,
   "metadata": {},
   "outputs": [],
   "source": [
    "import time\n",
    "ts = []\n",
    "for _ in range(100):\n",
    "    t0 = time.time()\n",
    "    model.predict_on_batch(xs2[0])\n",
    "    ts.append(time.time() - t0)"
   ]
  },
  {
   "cell_type": "code",
   "execution_count": 49,
   "metadata": {},
   "outputs": [
    {
     "data": {
      "text/plain": [
       "0.0011513288915157318"
      ]
     },
     "execution_count": 49,
     "metadata": {},
     "output_type": "execute_result"
    }
   ],
   "source": [
    "np.mean(np.array(ts)/80)"
   ]
  },
  {
   "cell_type": "code",
   "execution_count": 27,
   "metadata": {},
   "outputs": [
    {
     "data": {
      "text/plain": [
       "<keras.engine.functional.Functional at 0x7eff43c08198>"
      ]
     },
     "execution_count": 27,
     "metadata": {},
     "output_type": "execute_result"
    }
   ],
   "source": [
    "model."
   ]
  },
  {
   "cell_type": "code",
   "execution_count": 10,
   "metadata": {},
   "outputs": [],
   "source": [
    "pal = sns.color_palette('muted')\n"
   ]
  },
  {
   "cell_type": "code",
   "execution_count": 11,
   "metadata": {},
   "outputs": [],
   "source": [
    "def plot_calibration(df_pred, ax, lims, bins, binrange, bbox, pad):\n",
    "    sns.scatterplot(data =  df_pred.loc['test'], x = 'x', y = 'x_hat', ax = ax, color = pal[0], label = r'$f_x$')\n",
    "    sns.scatterplot(data =  df_pred.loc['test'], x = 'y', y = 'y_hat', ax = ax, color = pal[1], label = r'$f_y$')\n",
    "    sns.scatterplot(data =  df_pred.loc['test'], x = 'z', y = 'z_hat', ax = ax, color = pal[2], label = r'$f_z$')\n",
    "\n",
    "    sns.lineplot(x = lims, y =  lims, color = pal[3], ax = ax)\n",
    "\n",
    "    axins = inset_axes(ax, width=\"35%\", height=\"35%\", loc=2, bbox_to_anchor=bbox, bbox_transform=ax.transAxes, borderpad = pad)\n",
    "\n",
    "    errs = df_pred.loc['test'].iloc[:, 0:-2].diff(axis = 1, periods = 3).abs().dropna(axis = 1).values.reshape(-1)\n",
    "\n",
    "    sns.histplot(data = errs, ax = axins, stat = 'percent', bins = bins, binrange=binrange, color = pal[7])\n",
    "    axins.set_xlabel('Absolute Error (eV/Å)', fontsize = 12)\n",
    "    axins.set_ylabel('Percent', fontsize = 12)\n",
    "\n",
    "    ax.legend(loc = 4, fontsize = 14)\n",
    "    ax.set_xlabel(r'$f$ (eV/Å)', fontsize = 14)\n",
    "    ax.set_ylabel(r'$\\hat{f}$ (eV/Å)', fontsize = 14)\n",
    "    #return ax"
   ]
  },
  {
   "cell_type": "code",
   "execution_count": 12,
   "metadata": {},
   "outputs": [
    {
     "name": "stderr",
     "output_type": "stream",
     "text": [
      "/home/sck/shafiro1/py_oenvs/tf/lib64/python3.6/site-packages/ipykernel_launcher.py:9: UserWarning:\n",
      "\n",
      "This figure includes Axes that are not compatible with tight_layout, so results might be incorrect.\n",
      "\n"
     ]
    },
    {
     "data": {
      "image/png": "[encoded data removed]",
      "text/plain": [
       "<Figure size 1008x432 with 4 Axes>"
      ]
     },
     "metadata": {
      "needs_background": "light"
     },
     "output_type": "display_data"
    }
   ],
   "source": [
    "fig, axs = plt.subplots(ncols = 2, nrows = 1, figsize=(14, 6.0))\n",
    "\n",
    "plot_calibration(preds['cycles-exp4-coords2'], axs[1], [-2., 2.], 40, (0,0.3), (0, 0.09, 1, 1), 4)\n",
    "plot_calibration(preds['cycles-exp6-coords4'], axs[0], [-2., 2.], 40, (0,0.3), (0, 0.09, 1, 1), 4)\n",
    "axs[0].set_title('(a)', loc = 'left', fontsize = 14)\n",
    "axs[1].set_title('(b)', loc = 'left', fontsize = 14)\n",
    "axs[0].set_ylabel(r'$L^{(4)}_6\\ \\ \\hat{f}$ (eV/Å)', fontsize = 14)\n",
    "axs[1].set_ylabel(r'$L^{(2)}_4\\ \\ \\hat{f}$ (eV/Å)', fontsize = 14)\n",
    "plt.tight_layout()\n",
    "plt.savefig('figures/BTO-calibrations.pdf', bbox_inches='tight')\n",
    "plt.savefig('figures/BTO-calibrations.svg', bbox_inches='tight')\n",
    "plt.savefig('figures/BTO-calibrations.png', bbox_inches='tight', dpi = 200)\n"
   ]
  },
  {
   "cell_type": "code",
   "execution_count": null,
   "metadata": {},
   "outputs": [],
   "source": []
  },
  {
   "cell_type": "code",
   "execution_count": 13,
   "metadata": {},
   "outputs": [
    {
     "data": {
      "text/plain": [
       "0.2341789"
      ]
     },
     "execution_count": 13,
     "metadata": {},
     "output_type": "execute_result"
    }
   ],
   "source": [
    "preds['cycles-exp4-coords2'][['x', 'y', 'z']].abs().mean().mean()"
   ]
  },
  {
   "cell_type": "code",
   "execution_count": 14,
   "metadata": {},
   "outputs": [
    {
     "data": {
      "text/html": [
       "<div>\n",
       "<style scoped>\n",
       "    .dataframe tbody tr th:only-of-type {\n",
       "        vertical-align: middle;\n",
       "    }\n",
       "\n",
       "    .dataframe tbody tr th {\n",
       "        vertical-align: top;\n",
       "    }\n",
       "\n",
       "    .dataframe thead th {\n",
       "        text-align: right;\n",
       "    }\n",
       "</style>\n",
       "<table border=\"1\" class=\"dataframe\">\n",
       "  <thead>\n",
       "    <tr style=\"text-align: right;\">\n",
       "      <th></th>\n",
       "      <th></th>\n",
       "      <th>count</th>\n",
       "      <th>mean</th>\n",
       "      <th>std</th>\n",
       "      <th>min</th>\n",
       "      <th>25%</th>\n",
       "      <th>50%</th>\n",
       "      <th>75%</th>\n",
       "      <th>max</th>\n",
       "    </tr>\n",
       "    <tr>\n",
       "      <th>Features</th>\n",
       "      <th>set</th>\n",
       "      <th></th>\n",
       "      <th></th>\n",
       "      <th></th>\n",
       "      <th></th>\n",
       "      <th></th>\n",
       "      <th></th>\n",
       "      <th></th>\n",
       "      <th></th>\n",
       "    </tr>\n",
       "  </thead>\n",
       "  <tbody>\n",
       "    <tr>\n",
       "      <th rowspan=\"3\" valign=\"top\">cycles-exp4-coords2</th>\n",
       "      <th>dev</th>\n",
       "      <td>122.474</td>\n",
       "      <td>0.083</td>\n",
       "      <td>0.128</td>\n",
       "      <td>0.0</td>\n",
       "      <td>0.023</td>\n",
       "      <td>0.049</td>\n",
       "      <td>0.086</td>\n",
       "      <td>1.033</td>\n",
       "    </tr>\n",
       "    <tr>\n",
       "      <th>test</th>\n",
       "      <td>124.419</td>\n",
       "      <td>0.081</td>\n",
       "      <td>0.119</td>\n",
       "      <td>0.0</td>\n",
       "      <td>0.022</td>\n",
       "      <td>0.048</td>\n",
       "      <td>0.085</td>\n",
       "      <td>0.728</td>\n",
       "    </tr>\n",
       "    <tr>\n",
       "      <th>train</th>\n",
       "      <td>300.000</td>\n",
       "      <td>0.073</td>\n",
       "      <td>0.097</td>\n",
       "      <td>0.0</td>\n",
       "      <td>0.021</td>\n",
       "      <td>0.045</td>\n",
       "      <td>0.079</td>\n",
       "      <td>0.482</td>\n",
       "    </tr>\n",
       "    <tr>\n",
       "      <th rowspan=\"3\" valign=\"top\">cycles-exp6-coords4</th>\n",
       "      <th>dev</th>\n",
       "      <td>122.474</td>\n",
       "      <td>0.052</td>\n",
       "      <td>0.088</td>\n",
       "      <td>0.0</td>\n",
       "      <td>0.011</td>\n",
       "      <td>0.024</td>\n",
       "      <td>0.046</td>\n",
       "      <td>0.411</td>\n",
       "    </tr>\n",
       "    <tr>\n",
       "      <th>test</th>\n",
       "      <td>124.419</td>\n",
       "      <td>0.051</td>\n",
       "      <td>0.090</td>\n",
       "      <td>0.0</td>\n",
       "      <td>0.011</td>\n",
       "      <td>0.023</td>\n",
       "      <td>0.045</td>\n",
       "      <td>0.523</td>\n",
       "    </tr>\n",
       "    <tr>\n",
       "      <th>train</th>\n",
       "      <td>300.000</td>\n",
       "      <td>0.037</td>\n",
       "      <td>0.054</td>\n",
       "      <td>0.0</td>\n",
       "      <td>0.009</td>\n",
       "      <td>0.019</td>\n",
       "      <td>0.036</td>\n",
       "      <td>0.294</td>\n",
       "    </tr>\n",
       "  </tbody>\n",
       "</table>\n",
       "</div>"
      ],
      "text/plain": [
       "                             count   mean    std  min    25%    50%    75%  \\\n",
       "Features            set                                                      \n",
       "cycles-exp4-coords2 dev    122.474  0.083  0.128  0.0  0.023  0.049  0.086   \n",
       "                    test   124.419  0.081  0.119  0.0  0.022  0.048  0.085   \n",
       "                    train  300.000  0.073  0.097  0.0  0.021  0.045  0.079   \n",
       "cycles-exp6-coords4 dev    122.474  0.052  0.088  0.0  0.011  0.024  0.046   \n",
       "                    test   124.419  0.051  0.090  0.0  0.011  0.023  0.045   \n",
       "                    train  300.000  0.037  0.054  0.0  0.009  0.019  0.036   \n",
       "\n",
       "                             max  \n",
       "Features            set           \n",
       "cycles-exp4-coords2 dev    1.033  \n",
       "                    test   0.728  \n",
       "                    train  0.482  \n",
       "cycles-exp6-coords4 dev    0.411  \n",
       "                    test   0.523  \n",
       "                    train  0.294  "
      ]
     },
     "execution_count": 14,
     "metadata": {},
     "output_type": "execute_result"
    }
   ],
   "source": [
    "np.sqrt(df.groupby(['Features', 'set'])['MAE Forces'].describe()).round(3)"
   ]
  },
  {
   "cell_type": "code",
   "execution_count": 32,
   "metadata": {},
   "outputs": [
    {
     "data": {
      "text/html": [
       "<div>\n",
       "<style scoped>\n",
       "    .dataframe tbody tr th:only-of-type {\n",
       "        vertical-align: middle;\n",
       "    }\n",
       "\n",
       "    .dataframe tbody tr th {\n",
       "        vertical-align: top;\n",
       "    }\n",
       "\n",
       "    .dataframe thead th {\n",
       "        text-align: right;\n",
       "    }\n",
       "</style>\n",
       "<table border=\"1\" class=\"dataframe\">\n",
       "  <thead>\n",
       "    <tr style=\"text-align: right;\">\n",
       "      <th></th>\n",
       "      <th></th>\n",
       "      <th>count</th>\n",
       "      <th>mean</th>\n",
       "      <th>std</th>\n",
       "      <th>min</th>\n",
       "      <th>25%</th>\n",
       "      <th>50%</th>\n",
       "      <th>75%</th>\n",
       "      <th>max</th>\n",
       "    </tr>\n",
       "    <tr>\n",
       "      <th>Features</th>\n",
       "      <th>set</th>\n",
       "      <th></th>\n",
       "      <th></th>\n",
       "      <th></th>\n",
       "      <th></th>\n",
       "      <th></th>\n",
       "      <th></th>\n",
       "      <th></th>\n",
       "      <th></th>\n",
       "    </tr>\n",
       "  </thead>\n",
       "  <tbody>\n",
       "    <tr>\n",
       "      <th rowspan=\"3\" valign=\"top\">cycles-exp4-coords2</th>\n",
       "      <th>dev</th>\n",
       "      <td>122.474</td>\n",
       "      <td>0.083</td>\n",
       "      <td>0.128</td>\n",
       "      <td>0.0</td>\n",
       "      <td>0.023</td>\n",
       "      <td>0.049</td>\n",
       "      <td>0.087</td>\n",
       "      <td>1.016</td>\n",
       "    </tr>\n",
       "    <tr>\n",
       "      <th>test</th>\n",
       "      <td>124.419</td>\n",
       "      <td>0.082</td>\n",
       "      <td>0.120</td>\n",
       "      <td>0.0</td>\n",
       "      <td>0.023</td>\n",
       "      <td>0.048</td>\n",
       "      <td>0.085</td>\n",
       "      <td>0.726</td>\n",
       "    </tr>\n",
       "    <tr>\n",
       "      <th>train</th>\n",
       "      <td>300.000</td>\n",
       "      <td>0.073</td>\n",
       "      <td>0.097</td>\n",
       "      <td>0.0</td>\n",
       "      <td>0.021</td>\n",
       "      <td>0.045</td>\n",
       "      <td>0.079</td>\n",
       "      <td>0.481</td>\n",
       "    </tr>\n",
       "    <tr>\n",
       "      <th rowspan=\"3\" valign=\"top\">cycles-exp6-coords4</th>\n",
       "      <th>dev</th>\n",
       "      <td>122.474</td>\n",
       "      <td>0.052</td>\n",
       "      <td>0.088</td>\n",
       "      <td>0.0</td>\n",
       "      <td>0.011</td>\n",
       "      <td>0.024</td>\n",
       "      <td>0.047</td>\n",
       "      <td>0.411</td>\n",
       "    </tr>\n",
       "    <tr>\n",
       "      <th>test</th>\n",
       "      <td>124.419</td>\n",
       "      <td>0.052</td>\n",
       "      <td>0.091</td>\n",
       "      <td>0.0</td>\n",
       "      <td>0.011</td>\n",
       "      <td>0.024</td>\n",
       "      <td>0.046</td>\n",
       "      <td>0.510</td>\n",
       "    </tr>\n",
       "    <tr>\n",
       "      <th>train</th>\n",
       "      <td>300.000</td>\n",
       "      <td>0.037</td>\n",
       "      <td>0.055</td>\n",
       "      <td>0.0</td>\n",
       "      <td>0.009</td>\n",
       "      <td>0.020</td>\n",
       "      <td>0.037</td>\n",
       "      <td>0.296</td>\n",
       "    </tr>\n",
       "  </tbody>\n",
       "</table>\n",
       "</div>"
      ],
      "text/plain": [
       "                             count   mean    std  min    25%    50%    75%  \\\n",
       "Features            set                                                      \n",
       "cycles-exp4-coords2 dev    122.474  0.083  0.128  0.0  0.023  0.049  0.087   \n",
       "                    test   124.419  0.082  0.120  0.0  0.023  0.048  0.085   \n",
       "                    train  300.000  0.073  0.097  0.0  0.021  0.045  0.079   \n",
       "cycles-exp6-coords4 dev    122.474  0.052  0.088  0.0  0.011  0.024  0.047   \n",
       "                    test   124.419  0.052  0.091  0.0  0.011  0.024  0.046   \n",
       "                    train  300.000  0.037  0.055  0.0  0.009  0.020  0.037   \n",
       "\n",
       "                             max  \n",
       "Features            set           \n",
       "cycles-exp4-coords2 dev    1.016  \n",
       "                    test   0.726  \n",
       "                    train  0.481  \n",
       "cycles-exp6-coords4 dev    0.411  \n",
       "                    test   0.510  \n",
       "                    train  0.296  "
      ]
     },
     "execution_count": 32,
     "metadata": {},
     "output_type": "execute_result"
    }
   ],
   "source": [
    "np.sqrt(df.groupby(['Features', 'set'])['MAE Forces'].describe()).round(3)"
   ]
  },
  {
   "cell_type": "code",
   "execution_count": null,
   "metadata": {},
   "outputs": [],
   "source": [
    "df_pred = preds['paths-exp4-coords2']\n",
    "\n",
    "fig, axs = plt.subplots(ncols = 1, nrows = 1, figsize=(10, 6.67))\n",
    "\n",
    "sns.scatterplot(data =  df_pred.loc['test'], x = 'x', y = 'x_hat', ax = axs, color = pal[0], label = r'$f_x$')\n",
    "sns.scatterplot(data =  df_pred.loc['test'], x = 'y', y = 'y_hat', ax = axs, color = pal[1], label = r'$f_y$')\n",
    "sns.scatterplot(data =  df_pred.loc['test'], x = 'z', y = 'z_hat', ax = axs, color = pal[2], label = r'$f_z$')\n",
    "\n",
    "sns.lineplot(x = [-3.25, 3.25], y =  [-3.25, 3.25], color = pal[3], ax = axs)\n",
    "\n",
    "axins = inset_axes(axs, width=\"35%\", height=\"40%\", loc=2, bbox_to_anchor=(0, 0.12, 1, 1), bbox_transform=axs.transAxes, borderpad = 5)#,)\n",
    "\n",
    "sns.histplot(data = (df_pred['f'] - df_pred['f_hat']).abs().loc['test'], ax = axins, stat = 'percent', bins = 30, binrange=(0,0.5), color = pal[7])\n",
    "axins.set_xlabel('MAE (eV/Å)', fontsize = 12)\n",
    "axins.set_ylabel('Percent', fontsize = 12)\n",
    "\n",
    "axs.legend(loc = 4, fontsize = 14)\n",
    "axs.set_xlabel(r'$f$ (eV/Å)', fontsize = 14)\n",
    "axs.set_ylabel(r'$\\hat{f}$ (eV/Å)', fontsize = 14)\n",
    "\n"
   ]
  },
  {
   "cell_type": "code",
   "execution_count": null,
   "metadata": {},
   "outputs": [],
   "source": [
    "df_pred = preds['paths-exp6-coords4']\n",
    "\n",
    "fig, axs = plt.subplots(ncols = 1, nrows = 1, figsize=(10, 6.67))\n",
    "\n",
    "sns.scatterplot(data =  df_pred.loc['test'], x = 'x', y = 'x_hat', ax = axs, color = pal[0], label = r'$f_x$')\n",
    "sns.scatterplot(data =  df_pred.loc['test'], x = 'y', y = 'y_hat', ax = axs, color = pal[1], label = r'$f_y$')\n",
    "sns.scatterplot(data =  df_pred.loc['test'], x = 'z', y = 'z_hat', ax = axs, color = pal[2], label = r'$f_z$')\n",
    "\n",
    "sns.lineplot(x = [-3.25, 3.25], y =  [-3.25, 3.25], color = pal[3], ax = axs)\n",
    "\n",
    "axins = inset_axes(axs, width=\"35%\", height=\"40%\", loc=2, bbox_to_anchor=(0, 0.12, 1, 1), bbox_transform=axs.transAxes, borderpad = 5)#,)\n",
    "\n",
    "sns.histplot(data = (df_pred['f'] - df_pred['f_hat']).abs().loc['test'], ax = axins, stat = 'percent', bins = 30, binrange=(0,0.3), color = pal[7])\n",
    "axins.set_xlabel('MAE (eV/Å)', fontsize = 12)\n",
    "axins.set_ylabel('Percent', fontsize = 12)\n",
    "\n",
    "axs.legend(loc = 4, fontsize = 14)\n",
    "axs.set_xlabel(r'$f$ (eV/Å)', fontsize = 14)\n",
    "axs.set_ylabel(r'$\\hat{f}$ (eV/Å)', fontsize = 14)\n"
   ]
  },
  {
   "cell_type": "code",
   "execution_count": null,
   "metadata": {},
   "outputs": [],
   "source": [
    "np.abs(f_train.reshape(-1, 3)).mean()"
   ]
  },
  {
   "cell_type": "code",
   "execution_count": null,
   "metadata": {},
   "outputs": [],
   "source": [
    "df.groupby(['Features', 'set'])['MAE Forces'].describe()"
   ]
  },
  {
   "cell_type": "code",
   "execution_count": null,
   "metadata": {},
   "outputs": [],
   "source": [
    "all_models = [x.split('--')[0].split('/')[-1] for x in glob.glob('./results/*') if '16_32tanh' in x]"
   ]
  },
  {
   "cell_type": "code",
   "execution_count": null,
   "metadata": {},
   "outputs": [],
   "source": [
    "df, labels_list, preds_vector, preds, shapes = get_vectors(all_models)"
   ]
  },
  {
   "cell_type": "code",
   "execution_count": null,
   "metadata": {},
   "outputs": [],
   "source": [
    "all_models"
   ]
  },
  {
   "cell_type": "code",
   "execution_count": null,
   "metadata": {},
   "outputs": [],
   "source": [
    "df_shapes = pd.DataFrame(shapes).T\n",
    "df_shapes[1].to_csv('shapes.csv')"
   ]
  },
  {
   "cell_type": "code",
   "execution_count": null,
   "metadata": {},
   "outputs": [],
   "source": [
    "df_all = df.groupby(['Features', 'set'])['MAE Forces'].describe()\n",
    "df_all.to_csv('errors.csv')"
   ]
  },
  {
   "cell_type": "code",
   "execution_count": null,
   "metadata": {},
   "outputs": [],
   "source": [
    "df_all.loc['paths-exp']"
   ]
  }
 ],
 "metadata": {
  "kernelspec": {
   "display_name": "tf",
   "language": "python",
   "name": "python3"
  },
  "language_info": {
   "codemirror_mode": {
    "name": "ipython",
    "version": 3
   },
   "file_extension": ".py",
   "mimetype": "text/x-python",
   "name": "python",
   "nbconvert_exporter": "python",
   "pygments_lexer": "ipython3",
   "version": "3.6.8"
  },
  "orig_nbformat": 4
 },
 "nbformat": 4,
 "nbformat_minor": 2
}
